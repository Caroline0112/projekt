{
 "cells": [
  {
   "cell_type": "markdown",
   "id": "ec3c4b72",
   "metadata": {},
   "source": [
    "## Modele epidemiologiczne."
   ]
  },
  {
   "cell_type": "markdown",
   "id": "c22959a0",
   "metadata": {},
   "source": [
    "Martyna Matusiak i Karolina Chudoba"
   ]
  },
  {
   "cell_type": "markdown",
   "id": "2fc1b1c6",
   "metadata": {},
   "source": [
    "## Spis treści\n",
    "1. [Epidemiologia](#1)\n",
    "2. [Metody kontroli epidemii](#2)\n",
    "3. [Popularne modele epidemiologiczne](#3)\n",
    "    1. [SI](#3.1)\n",
    "    2. [SIS](#3.2)\n",
    "    3. [SIR](#3.3)\n",
    "    4. [Może coś jeszcze](#3.4)\n",
    "4. [Metody numeryczne](#4)\n",
    "    1. [Euler](#4.1)\n",
    "    2. [Jakaś inna](#4.2)\n",
    "5. [Bibliografia](#5)"
   ]
  },
  {
   "cell_type": "markdown",
   "id": "cba06677",
   "metadata": {},
   "source": [
    "## 1.Epidemiologia <a name=\"1\"></a>"
   ]
  },
  {
   "cell_type": "markdown",
   "id": "7ca03803",
   "metadata": {},
   "source": [
    "\n",
    "Słowo $epidemia$ pochodzi z greki ($epi$ – nawiedzający,\n",
    "$demos$ – ludzi) i oznacza występowanie w okreslonym czasie i na określonym terenie przypadków zachorowań oraz innych zjawisk związanych ze zdrowiem w większej liczbie niż powszednia.  Jeśli zakres występowania epidemii obejmuje duży obszar (np. cały świat), to mówimy o pandemii. Przykłady pandemii to m.in. ptasia grypa (2005r.), świńska grypa (2009r.), COVID-19 (2019r.) [1]."
   ]
  },
  {
   "cell_type": "markdown",
   "id": "cc02b0d1",
   "metadata": {},
   "source": [
    "Epidemie towarzyszą ludziom od zarania dziejów. Najbardziej śmiercionośnymi i dezorientującymi ówczesną ludność były dżuma (Europa, XIVw.), czarna ospa (Ameryka Południowa, XVIw.), hiszpanka (pandemia, 1918-19). Ze względu na ogromne straty, zarówno materialne, jak i emocjonalne, ludzie starali się poznać przyczyny ich powstawania i opracować metody ich zwalczania. Co doprowadziło i wciąż doprowadza do rozwoju epidemiologii."
   ]
  },
  {
   "cell_type": "markdown",
   "id": "57061a3c",
   "metadata": {},
   "source": [
    "$Epidemiologia$ jest definiowana jako dział medycyny, zajmujący się badaniem powstawania i szerzenia się chorób zakaźnych. Badania epidemiologiczne mogą być klasyfikowane jako opisowe lub analityczne. Badania opisowe bazują głównie na demografii, natomiast analityczne są wspomagane przez modelowanie matematyczne, które mogą pomóc w opisywaniu zjawiska rozprzestrzeniania się epidemii [2]."
   ]
  },
  {
   "cell_type": "markdown",
   "id": "cd68e6a1",
   "metadata": {},
   "source": [
    " ## 2. Metody kontroli epidemii. <a name=\"2\"></a>"
   ]
  },
  {
   "cell_type": "markdown",
   "id": "4e6a186e",
   "metadata": {},
   "source": [
    "Najstarszą metodą walki z epidemiami jest opisane już w Starym Testamencie izolowanie osób chorych. Jednak wspólcześnie najpopularniejszymi metodami są przeprowadzanie szczepień ochronnych oraz w przypadku choroby terapia antybiotykowa lub antywirusowa [3]."
   ]
  },
  {
   "cell_type": "markdown",
   "id": "618556ea",
   "metadata": {},
   "source": [
    "## 3. Popularne modele epidemiologiczne. <a name=\"3\"></a>"
   ]
  },
  {
   "cell_type": "markdown",
   "id": "906ce4ce",
   "metadata": {},
   "source": [
    "Modele, które opisują przenoszenie się choroby z człowieka na człowieka, od lat 20-tych XX-go wieku są opisywane równaniami różniczkowymi. Poniżej przedstawiamy najprostsze modele epidemiologiczne."
   ]
  },
  {
   "cell_type": "markdown",
   "id": "5e500ae1",
   "metadata": {},
   "source": [
    "### A. SI <a name=\"3.1\"></a> "
   ]
  },
  {
   "cell_type": "code",
   "execution_count": null,
   "id": "ec0ce234",
   "metadata": {},
   "outputs": [],
   "source": []
  },
  {
   "cell_type": "markdown",
   "id": "6b97f2f6",
   "metadata": {},
   "source": [
    "### B. SIS <a name=\"3.2\"></a> "
   ]
  },
  {
   "cell_type": "code",
   "execution_count": null,
   "id": "a06056f2",
   "metadata": {},
   "outputs": [],
   "source": []
  },
  {
   "cell_type": "markdown",
   "id": "90e7933d",
   "metadata": {},
   "source": [
    "### C. SIR <a name=\"3.3\"></a> "
   ]
  },
  {
   "cell_type": "code",
   "execution_count": null,
   "id": "4369bc55",
   "metadata": {},
   "outputs": [],
   "source": []
  },
  {
   "cell_type": "markdown",
   "id": "594960b8",
   "metadata": {},
   "source": [
    "## 5. Bibliografia <a name=\"5\"></a>"
   ]
  },
  {
   "cell_type": "markdown",
   "id": "e7ad6ef9",
   "metadata": {},
   "source": [
    "[1] T. Britton, O. Diekmann, J.A.P. Heesterbeek, *Mathematical tools for understanding infectious disease dynamics*\n",
    "Princeton UP, 2013.\n",
    "\n",
    "[2] A. Jarynowski, *Human-human interaction: epidemiology w: Life time of correlation*. Wrocław:WN, 2010.\n",
    "\n",
    "[3] A. Jarynowski, A. Grabowski, *Modelowanie epidemiologiczne dedykowane Polsce*. Wrocław, 2015.\n",
    "\n",
    "[4] Urszula Foryś, Agnieszka Dzwonkowska, Joanna Krawczyk, *Matematyka w epidemiologii* Uniwersytet Warszawski, 2021."
   ]
  },
  {
   "cell_type": "markdown",
   "id": "c56c8849",
   "metadata": {},
   "source": []
  },
  {
   "cell_type": "code",
   "execution_count": null,
   "id": "dfb12f4e",
   "metadata": {},
   "outputs": [],
   "source": []
  }
 ],
 "metadata": {
  "kernelspec": {
   "display_name": "Python 3 (ipykernel)",
   "language": "python",
   "name": "python3"
  },
  "language_info": {
   "codemirror_mode": {
    "name": "ipython",
    "version": 3
   },
   "file_extension": ".py",
   "mimetype": "text/x-python",
   "name": "python",
   "nbconvert_exporter": "python",
   "pygments_lexer": "ipython3",
   "version": "3.10.0"
  }
 },
 "nbformat": 4,
 "nbformat_minor": 5
}
