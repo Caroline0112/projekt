{
 "cells": [
  {
   "cell_type": "markdown",
   "id": "84fb3e77",
   "metadata": {},
   "source": [
    "## Modele epidemiologiczne."
   ]
  },
  {
   "cell_type": "markdown",
   "id": "292d2f81",
   "metadata": {},
   "source": [
    "Martyna Matusiak i Karolina Chudoba"
   ]
  },
  {
   "cell_type": "markdown",
   "id": "f52d8800",
   "metadata": {},
   "source": [
    "## Spis treści\n",
    "1. [Epidemiologia](#1)\n",
    "2. [Metody kontroli epidemii](#2)\n",
    "3. [Pierwszy matematyczny opis epidemii w Polsce]([#3])\n",
    "4. [Popularne modele epidemiologiczne](#4)\n",
    "    1. [SI](#4.1)\n",
    "    2. [SIS](#4.2)\n",
    "    3. [SIR](#4.3)\n",
    "    4. [Może coś jeszcze](#4.4)\n",
    "4. [Metody numeryczne](#5)\n",
    "    1. [Euler](#5.1)\n",
    "    2. [Jakaś inna](#5.2)\n",
    "5. [Bibliografia](#6)"
   ]
  },
  {
   "cell_type": "markdown",
   "id": "59179a49",
   "metadata": {},
   "source": [
    "## 1.Epidemiologia <a name=\"1\"></a>"
   ]
  },
  {
   "cell_type": "markdown",
   "id": "a11fc910",
   "metadata": {},
   "source": [
    "\n",
    "Słowo $epidemia$ pochodzi z greki ($epi$ – nawiedzający,\n",
    "$demos$ – ludzi) i oznacza występowanie w okreslonym czasie i na określonym terenie przypadków zachorowań oraz innych zjawisk związanych ze zdrowiem w większej liczbie niż powszednia.  Jeśli zakres występowania epidemii obejmuje duży obszar (np. cały świat), to mówimy o pandemii. Przykłady pandemii to m.in. ptasia grypa (2005r.), świńska grypa (2009r.), COVID-19 (2019r.) [1]."
   ]
  },
  {
   "cell_type": "markdown",
   "id": "1b77b7bf",
   "metadata": {},
   "source": [
    "Epidemie towarzyszą ludziom od zarania dziejów. Najbardziej śmiercionośnymi i dezorientującymi ówczesną ludność były dżuma (Europa, XIVw.), czarna ospa (Ameryka Południowa, XVIw.), hiszpanka (pandemia, 1918-19). Ze względu na ogromne straty, zarówno materialne, jak i emocjonalne, ludzie starali się poznać przyczyny ich powstawania i opracować metody ich zwalczania. Co doprowadziło i wciąż doprowadza do rozwoju epidemiologii."
   ]
  },
  {
   "cell_type": "markdown",
   "id": "cbeb4788",
   "metadata": {},
   "source": [
    "$Epidemiologia$ jest definiowana jako dział medycyny, zajmujący się badaniem powstawania i szerzenia się chorób zakaźnych. Badania epidemiologiczne mogą być klasyfikowane jako opisowe lub analityczne. Badania opisowe bazują głównie na demografii, natomiast analityczne są wspomagane przez modelowanie matematyczne, które mogą pomóc w opisywaniu zjawiska rozprzestrzeniania się epidemii [2]."
   ]
  },
  {
   "cell_type": "markdown",
   "id": "7687d71c",
   "metadata": {},
   "source": [
    " ## 2. Metody kontroli epidemii. <a name=\"2\"></a>"
   ]
  },
  {
   "cell_type": "markdown",
   "id": "dbdd4f5b",
   "metadata": {},
   "source": [
    "Najstarszą metodą walki z epidemiami jest opisane już w Starym Testamencie izolowanie osób chorych. Jednak wspólcześnie najpopularniejszymi metodami są przeprowadzanie szczepień ochronnych oraz w przypadku choroby terapia antybiotykowa lub antywirusowa [3]."
   ]
  },
  {
   "cell_type": "markdown",
   "id": "6c316d35",
   "metadata": {},
   "source": [
    "## 3. Pierwszy matematyczny opis epidemii w Polsce (XVIIw.) <a name=\"3\"></a>"
   ]
  },
  {
   "cell_type": "markdown",
   "id": "fe55a005",
   "metadata": {},
   "source": [
    "Autorstwa znanego matematyka- Daniela Bernoulli'ego. Dane, które przyjął opisują epidemię czarnej ospy we Wrocławiu w latach (1687-1691) i pochodzą z *Tabel List Śiertelności miasta Breslaw* [5]. Bernoulli usiłował określić średnią życia, jaką uzyskałby, po wyeliminowaniu ospy jako przyczyny zgonów. W swoim modelu zdefiniował:\n",
    "\n",
    "- $x$ - wiek, w latach\n",
    "- $y$ - liczba osób, które przeżyły w określonym wieku\n",
    "- $s$ - liczba osób, które nie miały ospy w danym wieku\n",
    "- $n$ - wielkość populacji, na którą przypada jedno zarażenie w danym roku\n",
    "- $m$ - liczba zachorowań, na którą przypada jeden zgon\n",
    "\n",
    "Bernoulli przedstawił równanie [6], które miało opisywać zmianę liczby osób, które nie uległy zarażeniu :\n",
    "$$\n",
    "\\\\~\n",
    "\\\\~\n",
    "  -ds = \\frac{sdx}{n}-\\frac{sdy}{y}-\\frac{ssdx}{mny}\n",
    "$$\n",
    "Równoważnie :\n",
    "$$\n",
    "\\frac{sdy}{y}-ds = \\frac{sdx}{n}-\\frac{ssdx}{mny}\n",
    "\\\\~~\n",
    "\\\\~~\n",
    "$$\n",
    "Następnie obie strony równania mnożymy przez $\\frac{y}{ss}$, wyrażenia po lewej stronie zapisujemy na jednej kresce ułamkowej i otrzymujemy :\n",
    "$$\n",
    "\\\\~~\n",
    "\\\\~~\n",
    "\\frac{sdy - yds}{ss} = \\frac{ydx}{sn}-\\frac{dx}{mn}\n",
    "\\\\~~\n",
    "\\\\~~\n",
    "$$\n",
    "Zastosujemy podstawienie $q=\\frac{y}{s}$ , po zróżniczkowaniu $dq=\\frac{sdy-yds}{ss}$, wstawiamy do równania :\n",
    "\n",
    "$$\n",
    "\\\\~~\n",
    "\\\\~~\n",
    "dq=\\frac{qdx}{n}-\\frac{dx}{mn}\n",
    "\\\\~~\n",
    "\\\\~~\n",
    "$$\n",
    "Stąd :\n",
    "$$\n",
    "dx=\\frac{mndq}{mq-1}\n",
    "\\\\~~\n",
    "\\\\~~\n",
    "$$\n",
    "Szukając rozwiązania takiego równania, należy policzyć całkę wyrażenia po lewej stronie (można to zrobić np. stosując podstawienie $t=mq-1$). Po pokonaniu drobiazgów technicznych otrzymamy :\n",
    "$$\n",
    "\\\\~~\n",
    "\\\\~~\n",
    "x+C=n~ln(mq-1)\n",
    "\\\\~~\n",
    "\\\\~~\n",
    "$$\n",
    "Równoważnie :\n",
    "$$\n",
    "\\\\~~\n",
    "\\\\~~\n",
    "e^{~x+C}=(mq-1)^{n}\n",
    "\\\\~~\n",
    "$$\n",
    "Wyznaczając $q$ :\n",
    "$$\n",
    "\\\\~~\n",
    "\\\\~~\n",
    "q=e^{\\frac{x+C}{n}}+1\n",
    "\\\\~~\n",
    "$$\n",
    "Wracając do oryginalnych zmiennych ostatecznie otrzymujemy :\n",
    "$$\n",
    "\\\\~~\n",
    "\\\\~~\n",
    "s=\\frac{y}{e^{\\frac{x+C}{n}}+1}\n",
    "\\\\~~\n",
    "$$\n",
    "Dodając warunki początątkowe $x=0$ oraz $s=y$ :\n",
    "$$\n",
    "\\\\~~\n",
    "s=\\frac{my}{(m-1)e^{\\frac{x}{n}}+1}\n",
    "\\\\~~\n",
    "$$\n",
    "Bernoulli przyjął $n=m=8$ i otrzymał równanie:\n",
    "$$\n",
    "\\\\~~\n",
    "\\\\~~\n",
    "s=\\frac{8y}{7e^{\\frac{x}{8}}+1}\n",
    "\\\\~~\n",
    "\\\\~~\n",
    "$$\n",
    "Otrzymał wnioski, których oczekiwał. Średnia długośc życia bez ospy wynosiłaby 29 lat 9 msc. z ospą - 26 lat 7 msc.\n",
    "Do dziś wprowadzone przez niego parametry znajdują zastgosowanie jako:\n",
    "- $\\frac{1}{n}$ - siła zakażenia\n",
    "$$\\\\~~$$\n",
    "- $\\frac{1}{m}$ - śmiertelność"
   ]
  },
  {
   "cell_type": "code",
   "execution_count": null,
   "id": "ee5b02b6",
   "metadata": {},
   "outputs": [],
   "source": []
  },
  {
   "cell_type": "markdown",
   "id": "f4f4078d",
   "metadata": {},
   "source": [
    "## 4. Popularne modele epidemiologiczne. <a name=\"4\"></a>"
   ]
  },
  {
   "cell_type": "markdown",
   "id": "c18fb24a",
   "metadata": {},
   "source": [
    "Modele, które opisują przenoszenie się choroby z człowieka na człowieka, od lat 20-tych XX-go wieku są opisywane równaniami różniczkowymi. Poniżej przedstawiamy najprostsze modele epidemiologiczne."
   ]
  },
  {
   "cell_type": "markdown",
   "id": "df6d10e9",
   "metadata": {},
   "source": [
    "### A. SI <a name=\"4.1\"></a> "
   ]
  },
  {
   "cell_type": "code",
   "execution_count": null,
   "id": "98493018",
   "metadata": {},
   "outputs": [],
   "source": []
  },
  {
   "cell_type": "markdown",
   "id": "149c804c",
   "metadata": {},
   "source": [
    "### B. SIS <a name=\"4.2\"></a> "
   ]
  },
  {
   "cell_type": "code",
   "execution_count": null,
   "id": "5e061a53",
   "metadata": {},
   "outputs": [],
   "source": []
  },
  {
   "cell_type": "markdown",
   "id": "6e64440f",
   "metadata": {},
   "source": [
    "### C. SIR <a name=\"4.3\"></a> "
   ]
  },
  {
   "cell_type": "code",
   "execution_count": null,
   "id": "bea80174",
   "metadata": {},
   "outputs": [],
   "source": []
  },
  {
   "cell_type": "code",
   "execution_count": null,
   "id": "1d0d1179",
   "metadata": {},
   "outputs": [],
   "source": []
  },
  {
   "cell_type": "markdown",
   "id": "6a964ea2",
   "metadata": {},
   "source": [
    "## 6. Bibliografia <a name=\"6\"></a>"
   ]
  },
  {
   "cell_type": "markdown",
   "id": "1773b5d1",
   "metadata": {},
   "source": [
    "[1] T. Britton, O. Diekmann, J.A.P. Heesterbeek, *Mathematical tools for understanding infectious disease dynamics*\n",
    "Princeton UP, 2013.\n",
    "\n",
    "[2] A. Jarynowski, *Human-human interaction: epidemiology w: Life time of correlation*. Wrocław:WN, 2010.\n",
    "\n",
    "[3] A. Jarynowski, A. Grabowski, *Modelowanie epidemiologiczne dedykowane Polsce*. Wrocław, 2015.\n",
    "\n",
    "[4] Urszula Foryś, Agnieszka Dzwonkowska, Joanna Krawczyk, *Matematyka w epidemiologii* Uniwersytet Warszawski, 2021.\n",
    "\n",
    "[5] E. Halley, *Estimate of the Degrees of the Mortality of Mankind, drawn from curious. Tables of the Births and Funerals at the City of Breslaw Philosophical Transactions*, 196, 1692/1693\n",
    "\n",
    "[6] D. Bernoulli, S. Blower, *An attempt at a new analysis of the mortality caused by smallpox and of the advantages\n",
    "of inoculation to prevent it, Reviews in Medical Virology, 14(5): 275–288, 2004.*"
   ]
  },
  {
   "cell_type": "markdown",
   "id": "4d890570",
   "metadata": {},
   "source": []
  },
  {
   "cell_type": "code",
   "execution_count": null,
   "id": "446f20d2",
   "metadata": {},
   "outputs": [],
   "source": []
  }
 ],
 "metadata": {
  "kernelspec": {
   "display_name": "Python 3 (ipykernel)",
   "language": "python",
   "name": "python3"
  },
  "language_info": {
   "codemirror_mode": {
    "name": "ipython",
    "version": 3
   },
   "file_extension": ".py",
   "mimetype": "text/x-python",
   "name": "python",
   "nbconvert_exporter": "python",
   "pygments_lexer": "ipython3",
   "version": "3.10.0"
  }
 },
 "nbformat": 4,
 "nbformat_minor": 5
}
