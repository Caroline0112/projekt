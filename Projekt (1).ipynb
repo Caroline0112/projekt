{
 "cells": [
  {
   "cell_type": "markdown",
   "id": "84fb3e77",
   "metadata": {},
   "source": [
    "## Modele epidemiologiczne."
   ]
  },
  {
   "cell_type": "markdown",
   "id": "292d2f81",
   "metadata": {},
   "source": [
    "Martyna Matusiak i Karolina Chudoba"
   ]
  },
  {
   "cell_type": "markdown",
   "id": "f52d8800",
   "metadata": {},
   "source": [
    "## Spis treści\n",
    "1. [Epidemiologia](#1)\n",
    "2. [Metody kontroli epidemii](#2)\n",
    "3. [Pierwszy matematyczny opis epidemii w Polsce]([#3])\n",
    "4. [Popularne modele epidemiologiczne](#4)\n",
    "    1. [SI](#4.1)\n",
    "    2. [SIR](#4.2)\n",
    "    3. [SEIR](#4.3)\n",
    "    4. [Może coś jeszcze](#4.4)\n",
    "4. [Metody numeryczne](#5)\n",
    "    1. [Metoda Eulera](#5.1)\n",
    "    2. [Jakaś inna](#5.2)\n",
    "5. [Bibliografia](#6)"
   ]
  },
  {
   "cell_type": "markdown",
   "id": "59179a49",
   "metadata": {},
   "source": [
    "## 1.Epidemiologia <a name=\"1\"></a>"
   ]
  },
  {
   "cell_type": "markdown",
   "id": "a11fc910",
   "metadata": {},
   "source": [
    "\n",
    "Słowo $epidemia$ pochodzi z greki ($epi$ – nawiedzający,\n",
    "$demos$ – ludzi) i oznacza występowanie w okreslonym czasie i na określonym terenie przypadków zachorowań oraz innych zjawisk związanych ze zdrowiem w większej liczbie niż powszednia.  Jeśli zakres występowania epidemii obejmuje duży obszar (np. cały świat), to mówimy o pandemii. Przykłady pandemii to m.in. ptasia grypa (2005r.), świńska grypa (2009r.), COVID-19 (2019r.) [1]."
   ]
  },
  {
   "cell_type": "markdown",
   "id": "1b77b7bf",
   "metadata": {},
   "source": [
    "Epidemie towarzyszą ludziom od zarania dziejów. Najbardziej śmiercionośnymi i dezorientującymi ówczesną ludność były dżuma (Europa, XIVw.), czarna ospa (Ameryka Południowa, XVIw.), hiszpanka (pandemia, 1918-19). Ze względu na ogromne straty, zarówno materialne, jak i emocjonalne, ludzie starali się poznać przyczyny ich powstawania i opracować metody ich zwalczania. Co doprowadziło i wciąż doprowadza do rozwoju epidemiologii."
   ]
  },
  {
   "cell_type": "markdown",
   "id": "cbeb4788",
   "metadata": {},
   "source": [
    "$Epidemiologia$ jest definiowana jako dział medycyny, zajmujący się badaniem powstawania i szerzenia się chorób zakaźnych. Badania epidemiologiczne mogą być klasyfikowane jako opisowe lub analityczne. Badania opisowe bazują głównie na demografii, natomiast analityczne są wspomagane przez modelowanie matematyczne, które mogą pomóc w opisywaniu zjawiska rozprzestrzeniania się epidemii [2]."
   ]
  },
  {
   "cell_type": "markdown",
   "id": "7687d71c",
   "metadata": {},
   "source": [
    " ## 2. Metody kontroli epidemii. <a name=\"2\"></a>"
   ]
  },
  {
   "cell_type": "markdown",
   "id": "dbdd4f5b",
   "metadata": {},
   "source": [
    "Najstarszą metodą walki z epidemiami jest opisane już w Starym Testamencie izolowanie osób chorych. Jednak wspólcześnie najpopularniejszymi metodami są przeprowadzanie szczepień ochronnych oraz w przypadku choroby terapia antybiotykowa lub antywirusowa [3]."
   ]
  },
  {
   "cell_type": "markdown",
   "id": "6c316d35",
   "metadata": {},
   "source": [
    "## 3. Pierwszy matematyczny opis epidemii w Polsce (XVIIw.) <a name=\"3\"></a>"
   ]
  },
  {
   "cell_type": "markdown",
   "id": "fe55a005",
   "metadata": {},
   "source": [
    "Autorstwa znanego matematyka - Bernoulli'ego. Dane, które przyjął opisują epidemię czarnej ospy we Wrocławiu w latach (1687-1691) i pochodzą z *Tabel List Śiertelności miasta Breslaw* [5]. Bernoulli usiłował określić średnią życia, jaką uzyskałby, po wyeliminowaniu ospy jako przyczyny zgonów. W swoim modelu zdefiniował:\n",
    "\n",
    "- $x$ - wiek, w latach\n",
    "- $y$ - liczba osób, które przeżyły w określonym wieku\n",
    "- $s$ - liczba osób, które nie miały ospy w danym wieku\n",
    "- $n$ - wielkość populacji, na którą przypada jedno zarażenie w danym roku\n",
    "- $m$ - liczba zachorowań, na którą przypada jeden zgon\n",
    "\n",
    "Bernoulli przedstawił równanie [6], które miało opisywać zmianę liczby osób, które nie uległy zarażeniu :\n",
    "$$\n",
    "\\\\~\n",
    "\\\\~\n",
    "  -ds = \\frac{sdx}{n}-\\frac{sdy}{y}-\\frac{ssdx}{mny}\n",
    "$$\n",
    "Równoważnie :\n",
    "$$\n",
    "\\frac{sdy}{y}-ds = \\frac{sdx}{n}-\\frac{ssdx}{mny}\n",
    "\\\\~~\n",
    "\\\\~~\n",
    "$$\n",
    "Następnie obie strony równania mnożymy przez $\\frac{y}{ss}$, wyrażenia po lewej stronie zapisujemy na jednej kresce ułamkowej i otrzymujemy :\n",
    "$$\n",
    "\\\\~~\n",
    "\\\\~~\n",
    "\\frac{sdy - yds}{ss} = \\frac{ydx}{sn}-\\frac{dx}{mn}\n",
    "\\\\~~\n",
    "\\\\~~\n",
    "$$\n",
    "Zastosujemy podstawienie $q=\\frac{y}{s}$ , po zróżniczkowaniu $dq=\\frac{sdy-yds}{ss}$, wstawiamy do równania :\n",
    "\n",
    "$$\n",
    "\\\\~~\n",
    "\\\\~~\n",
    "dq=\\frac{qdx}{n}-\\frac{dx}{mn}\n",
    "\\\\~~\n",
    "\\\\~~\n",
    "$$\n",
    "Stąd :\n",
    "$$\n",
    "dx=\\frac{mndq}{mq-1}\n",
    "\\\\~~\n",
    "\\\\~~\n",
    "$$\n",
    "Szukając rozwiązania takiego równania, należy policzyć całkę wyrażenia po lewej stronie (można to zrobić np. stosując podstawienie $t=mq-1$). Po pokonaniu drobiazgów technicznych otrzymamy :\n",
    "$$\n",
    "\\\\~~\n",
    "\\\\~~\n",
    "x+C=n~ln(mq-1)\n",
    "\\\\~~\n",
    "\\\\~~\n",
    "$$\n",
    "Równoważnie :\n",
    "$$\n",
    "\\\\~~\n",
    "\\\\~~\n",
    "e^{~x+C}=(mq-1)^{n}\n",
    "\\\\~~\n",
    "$$\n",
    "Wyznaczając $q$ :\n",
    "$$\n",
    "\\\\~~\n",
    "\\\\~~\n",
    "q=e^{\\frac{x+C}{n}}+1\n",
    "\\\\~~\n",
    "$$\n",
    "Wracając do oryginalnych zmiennych ostatecznie otrzymujemy :\n",
    "$$\n",
    "\\\\~~\n",
    "\\\\~~\n",
    "s=\\frac{y}{e^{\\frac{x+C}{n}}+1}\n",
    "\\\\~~\n",
    "$$\n",
    "\n",
    "Dodając warunki początątkowe $x=0$ oraz $s=y$ :\n",
    "\n",
    "$$\n",
    "\\\\~~\n",
    "s=\\frac{my}{(m-1)e^{\\frac{x}{n}}+1}\n",
    "\\\\~~\n",
    "$$\n",
    "Bernoulli przyjął $n=m=8$ i otrzymał równanie:\n",
    "$$\n",
    "\\\\~~\n",
    "\\\\~~\n",
    "s=\\frac{8y}{7e^{\\frac{x}{8}}+1}\n",
    "\\\\~~\n",
    "\\\\~~\n",
    "$$\n",
    "Wyciągnął wnioski, których oczekiwał. Średnia długośc życia bez ospy wynosiłaby 29 lat 9 msc. z ospą - 26 lat 7 msc.\n",
    "Do dziś wprowadzone przez niego parametry znajdują zastosowanie jako:\n",
    "- $\\frac{1}{n}$ - siła zakażenia\n",
    "$$\\\\~~$$\n",
    "- $\\frac{1}{m}$ - śmiertelność"
   ]
  },
  {
   "cell_type": "markdown",
   "id": "f4f4078d",
   "metadata": {},
   "source": [
    "## 4. Popularne modele epidemiologiczne. <a name=\"4\"></a>"
   ]
  },
  {
   "cell_type": "markdown",
   "id": "c18fb24a",
   "metadata": {},
   "source": [
    "Modele, które opisują przenoszenie się choroby z człowieka na człowieka, od lat 20-tych XX-go wieku są opisywane równaniami różniczkowymi. Poniżej przedstawiamy najprostsze modele epidemiologiczne."
   ]
  },
  {
   "cell_type": "markdown",
   "id": "df6d10e9",
   "metadata": {},
   "source": [
    "### A. SI  model<a name=\"4.1\"></a> "
   ]
  },
  {
   "cell_type": "markdown",
   "id": "ad5caedb",
   "metadata": {},
   "source": [
    "Jest to odpowiednik modelu Verhulsta (logistycznego). W tym modelu przyjmujemy, że stan końcowy to stan, w którym wszyscy osobnicy są zarażeni (nie jest możliwe wyzdrowienie, ale model nie uwzględnia też śmierci) [7].\n",
    "- $S(t)$ - część populacji podatna na zakażenie\n",
    "- $I(t)$  - zainfekowana część populacji\n",
    "- $N~~~$- liczebność populacji  ($N=I(t)+S(t)$)\n",
    "- $~\\beta~~$  - wskaźnik infekcji (decyduje o szybkości zarażania [7])\n",
    "\n",
    "Model jest opisany przy pomocy układu równań różniczkowych:\n",
    "\n",
    "\n",
    "$$\n",
    "     \\begin{cases}\n",
    "     \\frac{dS}{dt}=-\\frac{\\beta I S}{N}\n",
    "     \\\\\n",
    "     \\frac{dI}{dt}=\\frac{\\beta I S}{N}\n",
    "     \\end{cases} \n",
    "$$\n",
    "\n",
    "z warunkiem początkowym $S(0)=S_{0}$, $I(0)=I_{0}$ oraz $I_{0}+S_{0}=N$.\n",
    "\n",
    "Podstawiamy $S=N-I$ do drugiego równania powyższego układu i otrzymujemy :\n",
    "\n",
    "$$\\frac{dI}{dt} - \\beta I + \\frac{\\beta I^2}{N}=0,~~~~~~I(0)=I_{0}, $$\n",
    "\n",
    "czyli równanie różniczkowe zwyczajne pierwszego rzędu, dokładniej - równanie Bernoulliego, możemy rozwiązać je analitycznie. \n",
    "\n",
    "Na początek, użyjemy podstawienia $u(t)=\\frac{1}{I(t)}$.\n",
    "\n",
    "Stąd:\n",
    "\n",
    "$$\\frac{dI}{dt}=\\frac{-u'}{u^2}$$\n",
    "\n",
    "Więc równanie sprowadzamy do postaci:\n",
    "\n",
    "$$u'+\\beta u=\\frac{\\beta}{N}$$\n",
    "\n",
    "Takie równanie możemy rozwiązać m.in. używając metody czynnika całkującego. Tak więc pomnożymy je stronami przez $e^{~\\int{\\beta dt}}=De^{\\beta t}$.\n",
    "\n",
    "$$(u\\cdot e^{~\\int{\\beta dt}})'=\\frac{\\beta}{N}\\cdot e^{~\\int{\\beta dt}}$$\n",
    "\n",
    "Stąd:\n",
    "\n",
    "$$u = \\frac{e^{~\\beta t}+\\beta C}{Ne^{~\\beta t}}$$\n",
    "\n",
    "Wracamy do oryginalnych zmiennych:\n",
    "\n",
    "$$I(t)=\\frac{Ne^{~\\beta t}}{e^{~\\beta t}+\\beta C}$$\n",
    "\n",
    "Korzystając z warunku początkowego, wyznaczamy stałą $C$ :\n",
    "\n",
    "$$C=\\frac{N}{\\beta I_{0}}$$\n",
    "\n",
    "Stąd :\n",
    "\n",
    "$$I(t)=\\frac{NI_{0}}{I_{0}+e^{-\\beta t}N}$$\n",
    "\n",
    "W rozwiązaniu otrzymujemy standardową funkcję logistyczną (znaną też jako sigmoidalna)."
   ]
  },
  {
   "cell_type": "code",
   "execution_count": 9,
   "id": "4039ad39",
   "metadata": {},
   "outputs": [
    {
     "data": {
      "image/png": "[encoded data removed]",
      "text/plain": [
       "<Figure size 432x288 with 1 Axes>"
      ]
     },
     "metadata": {
      "needs_background": "light"
     },
     "output_type": "display_data"
    }
   ],
   "source": [
    "import matplotlib.pyplot as plt\n",
    "import numpy as np\n",
    "import math\n",
    "\n",
    "def analytic_si(beta):\n",
    "    \n",
    "    N=1000\n",
    "    I0=1\n",
    "    time=160\n",
    "    t = np.linspace(0, time, time)  \n",
    "    I=(N*I0)/(I0+(N*math.e**(-beta*t)))\n",
    "    return I \n",
    "\n",
    "plt.plot(np.linspace(0, 160, 160), analytic_si(0.07), label='beta=0.07')\n",
    "plt.plot(np.linspace(0, 160, 160), analytic_si(0.1), label='beta=0.1')\n",
    "plt.plot(np.linspace(0, 160, 160), analytic_si(0.3), label='beta=0.2')\n",
    "plt.plot(np.linspace(0, 160, 160), analytic_si(0.5), label='beta=0.5')\n",
    "\n",
    "plt.title(\"Analytic solution of SI model\") \n",
    "plt.xlabel(\"time\")\n",
    "plt.ylabel(\"Simulated numbers\")\n",
    "plt.legend()\n",
    "plt.show()\n"
   ]
  },
  {
   "cell_type": "markdown",
   "id": "9585cc0a",
   "metadata": {},
   "source": [
    "Widzimy, że wraz ze wzrostem współczynnika $\\beta$, zmniejsza się czas, w którym cała populacja zostanie zainfekowana. Model dąży do tego, że cała populacja zostaje zakażona."
   ]
  },
  {
   "cell_type": "markdown",
   "id": "6e64440f",
   "metadata": {},
   "source": [
    "### B. SIR model<a name=\"4.2\"></a> "
   ]
  },
  {
   "cell_type": "markdown",
   "id": "a848a44f",
   "metadata": {},
   "source": [
    "Model SIR jest modelem, w którym możliwe jest wyzdrowienie i uzyskanie odporności. Osobnicy ozdrowiali są osobnikami, które nie mogą zostać ponownie zarażeni – uzyskali oni trwałą odporność. Dlatego, w ogólności, mogą być także osobnikami, którzy zmarli lub zostali trwale usunięci bądź wyizolowani z populacji\n",
    "- $S(t)$ - część populacji podatna na zakażenie\n",
    "- $I(t)$  - zainfekowana część populacji\n",
    "- $R(t)$ - ozdrowiała część populacji\n",
    "- $N~~~$- liczebność populacji  ($N=S(t)+I(t)+R(t)$)\n",
    "- $~\\beta~~$  - wskaźnik infekcji (decyduje o szybkości zarażania [7])\n",
    "- $~\\gamma~~$ - wskaźnik zrowienia (decyduje  o szybkości przejścia od zarażenia do wyzdrowienia)\n",
    "\n",
    "Model jest opisany przy pomocy układu równań różniczkowych:\n",
    "\n",
    "\n",
    "$$\n",
    "     \\begin{cases}\n",
    "     \\frac{dS}{dt}=-\\frac{\\beta I S}{N}\n",
    "     \\\\\n",
    "     \\frac{dI}{dt}=\\frac{\\beta I S}{N} - \\gamma I\n",
    "     \\\\\n",
    "     \\frac{dR}{dt}=\\gamma I\n",
    "     \\end{cases} \n",
    "$$\n",
    "\n",
    "z warunkiem początkowym $S(0)=S_{0}$, $I(0)=I_{0}$, $R(0)=0$ oraz $S_{0}+I_{0}+R_{0} =N$.\n",
    "\n",
    "\n",
    "Układ równań można rozwiązać tylko numerycznie. Możemy jedynie zapisać je przy pomocy metody Eulera z $\\Delta t = 1$.\n",
    "\n",
    "$$\n",
    "     \\begin{cases}\n",
    "     S(t+1)=S(t)-\\frac{\\beta}{N}I(t)S(t)\n",
    "     \\\\\n",
    "     I(t+1)=I(t)+\\frac{\\beta}{N}I(t)S(t) - \\gamma I(t)\n",
    "     \\\\\n",
    "     R(t+1)=R(t)+\\gamma I(t)\n",
    "     \\end{cases} \n",
    "$$\n",
    "\n",
    "Co daje nam lepsze zrozumienie modelu. Na przykład ostatnie równanie oznacza, ze jutrzejsza liczba osób ozdrowiałych jest równa dzisiejszej plus wskaźnik zrdowienia pomnożony przez liczbę osób zainfekowanych. "
   ]
  },
  {
   "cell_type": "code",
   "execution_count": 8,
   "id": "bea80174",
   "metadata": {},
   "outputs": [
    {
     "data": {
      "image/png": "[encoded data removed]",
      "text/plain": [
       "<Figure size 432x288 with 1 Axes>"
      ]
     },
     "metadata": {
      "needs_background": "light"
     },
     "output_type": "display_data"
    }
   ],
   "source": [
    "import numpy as np \n",
    "from scipy.integrate import odeint\n",
    "import matplotlib.pyplot as plt\n",
    "\n",
    "t = np.linspace(0,300,100)\n",
    "\n",
    "def sir(X,t,beta, gamma): \n",
    "    S,I,R = X\n",
    "    N=S+I+R\n",
    "    dSdt = -beta*S*I*(1/N)\n",
    "    dIdt = beta*S*I*(1/N)-gamma*I\n",
    "    dRdt=gamma*I\n",
    "    return [dSdt,dIdt,dRdt]\n",
    "\n",
    "def sir_solution(S0,I0,R0,beta,gamma):\n",
    "    X0 = [S0,I0,R0]\n",
    "    sol = odeint(sir, X0, t, args=(beta,gamma))\n",
    "    S, I, R = sol.T\n",
    "    plt.plot(t, S,label='Susceptible')\n",
    "    plt.plot(t, I,label='Infective')\n",
    "    plt.plot(t, R,label='Recoverd')\n",
    "    plt.legend()\n",
    "    plt.show()\n",
    "    \n",
    "sir_solution(990,10,0,0.1,0.05)\n",
    "\n"
   ]
  },
  {
   "cell_type": "markdown",
   "id": "f3b6d585",
   "metadata": {},
   "source": [
    "Obserwacje:\n",
    "1. Epidemia będzie pod kontrolą. Liczba zakażonych spadnie do zera.\n",
    "2. Stała część populacji zostanie zainfekowana i wyzdrowieje a reszta pozostanie zdrowa.\n",
    "3. Istnieje wartość kulminacyjna zarażonych.  "
   ]
  },
  {
   "cell_type": "markdown",
   "id": "2c12c502",
   "metadata": {},
   "source": [
    "### C. SEIR model<a name=\"4.3\"></a> "
   ]
  },
  {
   "cell_type": "markdown",
   "id": "b37289ce",
   "metadata": {},
   "source": [
    "Model ten polega na rozszerzeniu modelu SIR o czynnik E opisujący ilość osób wystawionych na działanie wirusa w czasie jego inkubacji. Jest to moment przejściowy miedzy S a I.\n",
    "- $S(t)$ - część populacji podatna na zakażenie\n",
    "- $E(t)$ - część populacji wystawiona na działanie wirusa w czasie jego inkubacji\n",
    "- $I(t)$  - zainfekowana część populacji\n",
    "- $R(t)$ - ozdrowiała część populacji\n",
    "- $N~~~$- liczebność populacji  ($N=S(t)+E(t)+I(t)+R(t)$)\n",
    "- $~\\beta~~$  - wskaźnik infekcji (decyduje o szybkości zarażania [7])\n",
    "- $~\\gamma~~$ - wskaźnik zrowienia (decyduje  o szybkości przejścia od zarażenia do wyzdrowienia)\n",
    "- $~\\alpha~~$ - wskaźnik stanowiący odwrotność okresu inkubacji wirusa\n",
    "\n",
    "Model jest opisany przy pomocy układu równań różniczkowych:\n",
    "\n",
    "$$\n",
    "     \\begin{cases}\n",
    "     \\frac{dS}{dt}=-\\frac{\\beta SI}{N}\n",
    "     \\\\\n",
    "     \\frac{dE}{dt}=\\frac{\\beta SI}{N} - \\alpha E\n",
    "     \\\\\n",
    "     \\frac{dI}{dt}=\\alpha E -\\gamma I\n",
    "     \\\\\n",
    "     \\frac{dR}{dt}=\\gamma I\n",
    "     \\end{cases} \n",
    "$$\n",
    "\n",
    "z warunkiem początkowym $S(0)=S_{0}$, $E(0)=E_{0}$, $I(0)=0$, $R(0)=0$ oraz $S_{0}+E_{0}+I_{0}+R_{0}=N$.\n",
    "\n",
    "\n",
    "Układ równań można rozwiązać tylko numerycznie. Możemy jedynie zapisać je przy pomocy metody Eulera z $\\Delta t = 1$.\n",
    "\n",
    "\n",
    "$$\n",
    "     \\begin{cases}\n",
    "     S(t+1)=S(t)-\\frac{\\beta}{N}I(t)S(t)\n",
    "     \\\\\n",
    "     E(t+1)=E(t)+\\frac{\\beta}{N}I(t)S(t) - \\alpha E(t)\n",
    "     \\\\\n",
    "     I(t+1)=I(t)+\\alpha E(t) -\\gamma I(t)\n",
    "     \\\\\n",
    "     R(t+1)=R(t)+\\gamma I(t)\n",
    "     \\end{cases} \n",
    "$$\n",
    "\n",
    "\n",
    "Co tak jak poprzednio daje nam lepsze zrozumienie modelu. "
   ]
  },
  {
   "cell_type": "code",
   "execution_count": 12,
   "id": "a9712535",
   "metadata": {},
   "outputs": [
    {
     "data": {
      "image/png": "[encoded data removed]",
      "text/plain": [
       "<Figure size 432x288 with 1 Axes>"
      ]
     },
     "metadata": {
      "needs_background": "light"
     },
     "output_type": "display_data"
    }
   ],
   "source": [
    "import numpy as np\n",
    "from scipy.integrate import odeint\n",
    "import matplotlib.pyplot as plt\n",
    "\n",
    "\n",
    "t = np.linspace(0,100,100)\n",
    "\n",
    "def seir(X, t, beta,gamma,alpha):\n",
    "    S, E, I, R = X\n",
    "    N = S+E+I+R\n",
    "    dSdt = (-beta*S*I)/N\n",
    "    dEdt = ((beta*S*I)/N)-(alpha*E)\n",
    "    dIdt = (alpha*E) - (gamma*I)\n",
    "    dRdt = gamma*I\n",
    "    return [dSdt, dEdt, dIdt, dRdt]\n",
    "\n",
    "\n",
    "def seir_numerical(S0,E0,I0,R0,beta,gamma,alpha):\n",
    "    X0 = [S0,E0,I0,R0]\n",
    "    sol = odeint(seir, X0, t, args=(beta,gamma,alpha))\n",
    "    S, E, I, R = sol.T\n",
    "    plt.plot(t, S,label='Susceptible')\n",
    "    plt.plot(t, E,label='Exposed')\n",
    "    plt.plot(t, I,label='Infective')\n",
    "    plt.plot(t, R,label='Recoverd')\n",
    "    plt.legend()\n",
    "    plt.show()\n",
    "    \n",
    "seir_numerical(9999,1,0,0,2.8,0.8,0.2)"
   ]
  },
  {
   "cell_type": "markdown",
   "id": "2a4c57f8",
   "metadata": {},
   "source": [
    "## 5. Metody numeryczne. <a name=\"5\"></a>"
   ]
  },
  {
   "cell_type": "markdown",
   "id": "cd6b8f82",
   "metadata": {},
   "source": [
    "### A. Metoda Eulera <a name=\"5.1\"></a> "
   ]
  },
  {
   "cell_type": "code",
   "execution_count": 43,
   "id": "f6e55cf6",
   "metadata": {},
   "outputs": [],
   "source": [
    "def Euler(f, X0, t):\n",
    "    dt = t[1] - t[0]\n",
    "    nt = len(t)\n",
    "    X  = np.zeros([nt, len(X0)])\n",
    "    X[0] = X0\n",
    "    for i in range(nt-1):\n",
    "        X[i+1] = X[i] + f(X[i], t[i]) * dt\n",
    "    return X"
   ]
  },
  {
   "cell_type": "markdown",
   "id": "d3db2651",
   "metadata": {},
   "source": [
    "### B. Metoda Runge'go Kutty <a name=\"5.2\"></a> "
   ]
  },
  {
   "cell_type": "code",
   "execution_count": 41,
   "id": "498187a0",
   "metadata": {},
   "outputs": [],
   "source": [
    "def runge_kutta(f, X0, t):\n",
    "    dt=t[1]-t[0]\n",
    "    nt = len(t)\n",
    "    X = np.zeros([nt, len(X0)])\n",
    "    X[0] = X0\n",
    "    for i in range(nt - 1):\n",
    "        k1 = f(X[i], t[i])\n",
    "        k2 = f(X[i] + dt/2. * k1, t[i] + dt/2.)\n",
    "        k3 = f(X[i] + dt/2. * k2, t[i] + dt/2.)\n",
    "        k4 = f(X[i] + dt    * k3, t[i] + dt)\n",
    "        X[i+1] = X[i] + dt / 6. * (k1 + 2. * k2 + 2. * k3 + k4)\n",
    "    return X\n"
   ]
  },
  {
   "cell_type": "markdown",
   "id": "8b6bb440",
   "metadata": {},
   "source": [
    "### C. ODEINT <a name=\"5.3\"></a> \n",
    "Solver z biblioteki scipy (nwm czy to dajemy)"
   ]
  },
  {
   "cell_type": "markdown",
   "id": "6a964ea2",
   "metadata": {},
   "source": [
    "## 6. Bibliografia <a name=\"6\"></a>"
   ]
  },
  {
   "cell_type": "markdown",
   "id": "1773b5d1",
   "metadata": {},
   "source": [
    "[1] T. Britton, O. Diekmann, J.A.P. Heesterbeek, *Mathematical tools for understanding infectious disease dynamics*\n",
    "Princeton UP, 2013.\n",
    "\n",
    "[2] A. Jarynowski, *Human-human interaction: epidemiology w: Life time of correlation*. Wrocław:WN, 2010.\n",
    "\n",
    "[3] A. Jarynowski, A. Grabowski, *Modelowanie epidemiologiczne dedykowane Polsce*. Wrocław, 2015.\n",
    "\n",
    "[4] Urszula Foryś, Agnieszka Dzwonkowska, Joanna Krawczyk, *Matematyka w epidemiologii* Uniwersytet Warszawski, 2021.\n",
    "\n",
    "[5] E. Halley, *Estimate of the Degrees of the Mortality of Mankind, drawn from curious. Tables of the Births and Funerals at the City of Breslaw Philosophical Transactions*, 196, 1692/1693\n",
    "\n",
    "[6] D. Bernoulli, S. Blower, *An attempt at a new analysis of the mortality caused by smallpox and of the advantages\n",
    "of inoculation to prevent it, Reviews in Medical Virology, 14(5): 275–288, 2004.*\n",
    "\n",
    "[7] *To i owo o modelowaniu epidemii: SI, SIS, SIR*$~$ Ewa Gudowska-Nowak, Katarzyna Oleś, Bartłomiej Dybiec, Uniwersytet Jagielloński, 2020."
   ]
  },
  {
   "cell_type": "markdown",
   "id": "4d890570",
   "metadata": {},
   "source": []
  },
  {
   "cell_type": "code",
   "execution_count": null,
   "id": "446f20d2",
   "metadata": {},
   "outputs": [],
   "source": []
  },
  {
   "cell_type": "code",
   "execution_count": null,
   "id": "22fc312a",
   "metadata": {},
   "outputs": [],
   "source": []
  }
 ],
 "metadata": {
  "kernelspec": {
   "display_name": "Python 3 (ipykernel)",
   "language": "python",
   "name": "python3"
  },
  "language_info": {
   "codemirror_mode": {
    "name": "ipython",
    "version": 3
   },
   "file_extension": ".py",
   "mimetype": "text/x-python",
   "name": "python",
   "nbconvert_exporter": "python",
   "pygments_lexer": "ipython3",
   "version": "3.9.7"
  }
 },
 "nbformat": 4,
 "nbformat_minor": 5
}
